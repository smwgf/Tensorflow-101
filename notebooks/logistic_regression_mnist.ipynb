{
 "cells": [
  {
   "cell_type": "markdown",
   "metadata": {},
   "source": [
    "# LOGISTIC REGRESSION WITH MNIST"
   ]
  },
  {
   "cell_type": "code",
   "execution_count": 9,
   "metadata": {},
   "outputs": [
    {
     "name": "stdout",
     "output_type": "stream",
     "text": [
      "PACKAGES LOADED\n"
     ]
    }
   ],
   "source": [
    "import numpy as np\n",
    "# import tensorflow as tf\n",
    "import tensorflow.compat.v1 as tf\n",
    "import matplotlib.pyplot as plt\n",
    "# tf.disable_eager_execution()\n",
    "# tf.enable_eager_execution()\n",
    "print (\"PACKAGES LOADED\")"
   ]
  },
  {
   "cell_type": "markdown",
   "metadata": {},
   "source": [
    "# DOWNLOAD AND EXTRACT MNIST DATASET"
   ]
  },
  {
   "cell_type": "code",
   "execution_count": 10,
   "metadata": {},
   "outputs": [],
   "source": [
    "def OnehotEncoding(target):\n",
    "    from sklearn.preprocessing import OneHotEncoder\n",
    "    target_re = target.reshape(-1,1)\n",
    "    enc = OneHotEncoder()\n",
    "    enc.fit(target_re)\n",
    "    return enc.transform(target_re).toarray()"
   ]
  },
  {
   "cell_type": "code",
   "execution_count": 11,
   "metadata": {},
   "outputs": [],
   "source": [
    "def SuffleWithNumpy(data_x, data_y):\n",
    "    idx = np.random.permutation(len(data_x))\n",
    "    x,y = data_x[idx], data_y[idx]\n",
    "    return x,y"
   ]
  },
  {
   "cell_type": "markdown",
   "metadata": {},
   "source": [
    "## download with keras dataset"
   ]
  },
  {
   "cell_type": "code",
   "execution_count": 12,
   "metadata": {},
   "outputs": [
    {
     "name": "stdout",
     "output_type": "stream",
     "text": [
      "Download and Extract MNIST dataset\n",
      " tpye of 'mnist' is <class 'tensorflow.python.util.module_wrapper.TFModuleWrapper'>\n",
      " number of train data is 60000\n",
      " number of test data is 10000\n",
      "MNIST loaded\n"
     ]
    }
   ],
   "source": [
    "print (\"Download and Extract MNIST dataset\")\n",
    "# mnist = input_data.read_data_sets('data/', one_hot=True)\n",
    "mnist = tf.keras.datasets.mnist\n",
    "\n",
    "(x_train, y_train), (x_test, y_test) = mnist.load_data()\n",
    "x_train, x_test = x_train / 255.0, x_test / 255.0\n",
    "\n",
    "print\n",
    "print (\" tpye of 'mnist' is %s\" % (type(mnist)))\n",
    "print (\" number of train data is %d\" % (len(x_train)))\n",
    "print (\" number of test data is %d\" % (len(x_test)))\n",
    "num_train_data = len(x_train)\n",
    "trainimg   = x_train\n",
    "trainimg = trainimg.reshape(len(trainimg),784)\n",
    "trainlabel = OnehotEncoding(y_train)\n",
    "testimg    = x_test\n",
    "testimg = testimg.reshape(len(testimg),784)\n",
    "testlabel  = OnehotEncoding(y_test)\n",
    "print (\"MNIST loaded\")\n",
    "tf.disable_eager_execution()"
   ]
  },
  {
   "cell_type": "markdown",
   "metadata": {},
   "source": [
    "## Download with tfds"
   ]
  },
  {
   "cell_type": "code",
   "execution_count": 3,
   "metadata": {},
   "outputs": [
    {
     "name": "stdout",
     "output_type": "stream",
     "text": [
      "Batch Learning? \n",
      "Number of training examples: 60000\n",
      "Number of test examples:     10000\n"
     ]
    },
    {
     "data": {
      "text/plain": [
       "((60000, 28, 28, 1), (60000, 10))"
      ]
     },
     "execution_count": 3,
     "metadata": {},
     "output_type": "execute_result"
    }
   ],
   "source": [
    "import tensorflow_datasets as tfds\n",
    "print (\"Batch Learning? \")\n",
    "tf.enable_eager_execution()\n",
    "dataset, metadata = tfds.load('mnist', as_supervised=True, with_info=True)\n",
    "train_dataset, test_dataset = dataset['train'], dataset['test']\n",
    "\n",
    "num_train_examples = metadata.splits['train'].num_examples\n",
    "num_test_examples = metadata.splits['test'].num_examples\n",
    "print(\"Number of training examples: {}\".format(num_train_examples))\n",
    "print(\"Number of test examples:     {}\".format(num_test_examples))\n",
    "\n",
    "def normalize(images, labels):\n",
    "    images = tf.cast(images, tf.float32)\n",
    "    images /= 255\n",
    "    return images, labels\n",
    "\n",
    "# The map function applies the normalize function to each element in the train\n",
    "# and test datasets\n",
    "train_dataset =  train_dataset.map(normalize)\n",
    "test_dataset  =  test_dataset.map(normalize)\n",
    "\n",
    "# The first time you use the dataset, the images will be loaded from disk\n",
    "# Caching will keep them in memory, making training faster\n",
    "train_dataset =  train_dataset.cache()\n",
    "test_dataset  =  test_dataset.cache()\n",
    "\n",
    "train_dataset=train_dataset.shuffle(num_train_examples,reshuffle_each_iteration=True)\n",
    "\n",
    "train_to_np=tf.compat.v1.data.make_one_shot_iterator(train_dataset.batch(num_train_examples)).get_next()\n",
    "x_train=train_to_np[0].numpy()\n",
    "y_train=train_to_np[1].numpy()\n",
    "test_to_np=tf.compat.v1.data.make_one_shot_iterator(test_dataset.batch(num_test_examples)).get_next()\n",
    "x_test = test_to_np[0].numpy()\n",
    "y_test = test_to_np[1].numpy()\n",
    "\n",
    "num_train_data = len(x_train)\n",
    "trainimg   = x_train\n",
    "trainlabel = OnehotEncoding(y_train)\n",
    "trainimg = trainimg.reshape(len(trainimg),784)\n",
    "testimg    = x_test\n",
    "testimg = testimg.reshape(len(testimg),784)\n",
    "testlabel  = OnehotEncoding(y_test)\n",
    "\n",
    "tf.disable_eager_execution()\n",
    "trainimg.shape, trainlabel.shape"
   ]
  },
  {
   "cell_type": "markdown",
   "metadata": {},
   "source": [
    "## CREATE TENSOR GRAPH FOR LOGISTIC REGRESSION"
   ]
  },
  {
   "cell_type": "code",
   "execution_count": 13,
   "metadata": {},
   "outputs": [],
   "source": [
    "x = tf.placeholder(tf.float32, shape = (None, 784))\n",
    "y = tf.placeholder(tf.float32, shape = (None, 10))  # None is for infinite \n",
    "W = tf.Variable(tf.zeros([784, 10]))\n",
    "b = tf.Variable(tf.zeros([10]))\n",
    "# LOGISTIC REGRESSION MODEL\n",
    "actv = tf.nn.softmax(tf.matmul(x, W) + b) \n",
    "# COST FUNCTION\n",
    "cost = tf.reduce_mean(-tf.reduce_sum(y*tf.math.log(actv), axis=1)) \n",
    "# OPTIMIZER\n",
    "learning_rate = 0.01\n",
    "optm = tf.train.GradientDescentOptimizer(learning_rate).minimize(cost)"
   ]
  },
  {
   "cell_type": "markdown",
   "metadata": {},
   "source": [
    "## PREDICTION AND ACCURACY"
   ]
  },
  {
   "cell_type": "code",
   "execution_count": 14,
   "metadata": {},
   "outputs": [],
   "source": [
    "# PREDICTION\n",
    "pred = tf.equal(tf.argmax(actv, 1), tf.argmax(y, 1))    \n",
    "# ACCURACY\n",
    "accr = tf.reduce_mean(tf.cast(pred, \"float\"))\n",
    "# INITIALIZER\n",
    "initializer = tf.global_variables_initializer()"
   ]
  },
  {
   "cell_type": "markdown",
   "metadata": {},
   "source": [
    "# TRAIN MODEL"
   ]
  },
  {
   "cell_type": "code",
   "execution_count": 15,
   "metadata": {
    "scrolled": true
   },
   "outputs": [
    {
     "name": "stdout",
     "output_type": "stream",
     "text": [
      "Epoch: 000/050 cost: 1.137559623 train_acc: 0.830 test_acc: 0.856\n",
      "Epoch: 005/050 cost: 0.429877024 train_acc: 0.870 test_acc: 0.896\n",
      "Epoch: 010/050 cost: 0.375152144 train_acc: 0.950 test_acc: 0.905\n",
      "Epoch: 015/050 cost: 0.350435106 train_acc: 0.920 test_acc: 0.909\n",
      "Epoch: 020/050 cost: 0.335372693 train_acc: 0.890 test_acc: 0.913\n",
      "Epoch: 025/050 cost: 0.324955257 train_acc: 0.910 test_acc: 0.915\n",
      "Epoch: 030/050 cost: 0.317174830 train_acc: 0.930 test_acc: 0.916\n",
      "Epoch: 035/050 cost: 0.311087956 train_acc: 0.910 test_acc: 0.918\n",
      "Epoch: 040/050 cost: 0.306114847 train_acc: 0.870 test_acc: 0.918\n",
      "Epoch: 045/050 cost: 0.301994932 train_acc: 0.930 test_acc: 0.919\n",
      "DONE\n"
     ]
    }
   ],
   "source": [
    "training_epochs = 50\n",
    "batch_size      = 100\n",
    "display_step    = 5\n",
    "# SESSION\n",
    "sess = tf.Session()\n",
    "sess.run(initializer)\n",
    "# MINI-BATCH LEARNING\n",
    "for epoch in range(training_epochs):\n",
    "    avg_cost = 0.\n",
    "    num_batch = int(num_train_data/batch_size)\n",
    "    for i in range(num_batch):         \n",
    "        batch_xs=trainimg[i*batch_size:(i+1)*batch_size]\n",
    "        batch_ys=trainlabel[i*batch_size:(i+1)*batch_size]\n",
    "\n",
    "        sess.run(optm, feed_dict={x: batch_xs, y: batch_ys})\n",
    "        feeds = {x: batch_xs, y: batch_ys}\n",
    "        avg_cost += sess.run(cost, feed_dict=feeds)/num_batch        \n",
    "    # DISPLAY\n",
    "    if epoch % display_step == 0:\n",
    "        feeds_train = {x: batch_xs, y: batch_ys}\n",
    "        feeds_test = {x: testimg, y: testlabel}\n",
    "        train_acc = sess.run(accr, feed_dict=feeds_train)\n",
    "        test_acc = sess.run(accr, feed_dict=feeds_test)\n",
    "        print (\"Epoch: %03d/%03d cost: %.9f train_acc: %.3f test_acc: %.3f\" \n",
    "               % (epoch, training_epochs, avg_cost, train_acc, test_acc))\n",
    "    #shuffle in each epoch\n",
    "    trainimg,trainlabel = SuffleWithNumpy(trainimg,trainlabel)\n",
    "    \n",
    "print (\"DONE\")"
   ]
  },
  {
   "cell_type": "code",
   "execution_count": null,
   "metadata": {},
   "outputs": [],
   "source": []
  }
 ],
 "metadata": {
  "kernelspec": {
   "display_name": "Python 3",
   "language": "python",
   "name": "python3"
  },
  "language_info": {
   "codemirror_mode": {
    "name": "ipython",
    "version": 3
   },
   "file_extension": ".py",
   "mimetype": "text/x-python",
   "name": "python",
   "nbconvert_exporter": "python",
   "pygments_lexer": "ipython3",
   "version": "3.8.5"
  },
  "toc": {
   "base_numbering": 1,
   "nav_menu": {},
   "number_sections": true,
   "sideBar": true,
   "skip_h1_title": false,
   "title_cell": "Table of Contents",
   "title_sidebar": "Contents",
   "toc_cell": false,
   "toc_position": {},
   "toc_section_display": true,
   "toc_window_display": false
  }
 },
 "nbformat": 4,
 "nbformat_minor": 1
}
