{
 "cells": [
  {
   "cell_type": "markdown",
   "metadata": {},
   "source": [
    "# MNIST "
   ]
  },
  {
   "cell_type": "code",
   "execution_count": 3,
   "metadata": {},
   "outputs": [
    {
     "name": "stdout",
     "output_type": "stream",
     "text": [
      "packs loaded\n"
     ]
    }
   ],
   "source": [
    "import numpy as np\n",
    "import tensorflow as tf\n",
    "import matplotlib.pyplot as plt\n",
    "# from tensorflow.examples.tutorials.mnist import input_data\n",
    "\n",
    "%matplotlib inline  \n",
    "print (\"packs loaded\")"
   ]
  },
  {
   "cell_type": "markdown",
   "metadata": {},
   "source": [
    "# Download and Extract MNIST dataset"
   ]
  },
  {
   "cell_type": "code",
   "execution_count": 10,
   "metadata": {},
   "outputs": [
    {
     "name": "stdout",
     "output_type": "stream",
     "text": [
      "Download and Extract MNIST dataset\n",
      " tpye of 'mnist' is <class 'module'>\n",
      " number of trian data is 60000\n",
      " number of test data is 10000\n"
     ]
    }
   ],
   "source": [
    "print (\"Download and Extract MNIST dataset\")\n",
    "# mnist = input_data.read_data_sets('data/', one_hot=True)\n",
    "mnist = tf.keras.datasets.mnist\n",
    "\n",
    "(x_train, y_train), (x_test, y_test) = mnist.load_data()\n",
    "x_train, x_test = x_train / 255.0, x_test / 255.0\n",
    "\n",
    "print\n",
    "print (\" tpye of 'mnist' is %s\" % (type(mnist)))\n",
    "print (\" number of trian data is %d\" % (len(x_train)))\n",
    "print (\" number of test data is %d\" % (len(x_test)))"
   ]
  },
  {
   "cell_type": "markdown",
   "metadata": {},
   "source": [
    "## One hot encoding"
   ]
  },
  {
   "cell_type": "markdown",
   "metadata": {},
   "source": [
    "### Using numpy"
   ]
  },
  {
   "cell_type": "code",
   "execution_count": 24,
   "metadata": {},
   "outputs": [],
   "source": [
    "def OnehotEncoding(target):\n",
    "    num = np.unique(target, axis=0)\n",
    "    num = num.shape[0]\n",
    "    encoding = np.eye(num)[target]\n",
    "    return encoding"
   ]
  },
  {
   "cell_type": "markdown",
   "metadata": {},
   "source": [
    "### Using scikitLearn"
   ]
  },
  {
   "cell_type": "code",
   "execution_count": 21,
   "metadata": {
    "scrolled": true
   },
   "outputs": [
    {
     "data": {
      "text/plain": [
       "array([[0., 0., 0., ..., 0., 0., 0.],\n",
       "       [1., 0., 0., ..., 0., 0., 0.],\n",
       "       [0., 0., 0., ..., 0., 0., 0.],\n",
       "       ...,\n",
       "       [0., 0., 0., ..., 0., 0., 0.],\n",
       "       [0., 0., 0., ..., 0., 0., 0.],\n",
       "       [0., 0., 0., ..., 0., 1., 0.]])"
      ]
     },
     "execution_count": 21,
     "metadata": {},
     "output_type": "execute_result"
    }
   ],
   "source": [
    "def OnehotEncoding(target):\n",
    "    from sklearn.preprocessing import OneHotEncoder\n",
    "    target_re = target.reshape(-1,1)\n",
    "    enc = OneHotEncoder()\n",
    "    enc.fit(target_re)\n",
    "    return enc.transform(target_re).toarray()"
   ]
  },
  {
   "cell_type": "code",
   "execution_count": 25,
   "metadata": {},
   "outputs": [
    {
     "name": "stdout",
     "output_type": "stream",
     "text": [
      "What does the data of MNIST look like?\n",
      " type of 'trainimg' is <class 'numpy.ndarray'>\n",
      " type of 'trainlabel' is <class 'numpy.ndarray'>\n",
      " type of 'testimg' is <class 'numpy.ndarray'>\n",
      " type of 'testlabel' is <class 'numpy.ndarray'>\n",
      " shape of 'trainimg' is (60000, 28, 28)\n",
      " shape of 'trainlabel' is (60000, 10)\n",
      " shape of 'testimg' is (10000, 28, 28)\n",
      " shape of 'testlabel' is (10000, 10)\n"
     ]
    }
   ],
   "source": [
    "# What does the data of MNIST look like? \n",
    "print (\"What does the data of MNIST look like?\")\n",
    "trainimg   = x_train\n",
    "trainlabel = OnehotEncoding(y_train)\n",
    "testimg    = x_test\n",
    "testlabel  = OnehotEncoding(y_test)\n",
    "print\n",
    "print (\" type of 'trainimg' is %s\"    % (type(trainimg)))\n",
    "print (\" type of 'trainlabel' is %s\"  % (type(trainlabel)))\n",
    "print (\" type of 'testimg' is %s\"     % (type(testimg)))\n",
    "print (\" type of 'testlabel' is %s\"   % (type(testlabel)))\n",
    "print (\" shape of 'trainimg' is %s\"   % (trainimg.shape,))\n",
    "print (\" shape of 'trainlabel' is %s\" % (trainlabel.shape,))\n",
    "print (\" shape of 'testimg' is %s\"    % (testimg.shape,))\n",
    "print (\" shape of 'testlabel' is %s\"  % (testlabel.shape,))"
   ]
  },
  {
   "cell_type": "code",
   "execution_count": 26,
   "metadata": {
    "scrolled": false
   },
   "outputs": [
    {
     "name": "stdout",
     "output_type": "stream",
     "text": [
      "How does the training data look like?\n",
      "36688th Training Data Label is 7\n",
      "25808th Training Data Label is 7\n",
      "11433th Training Data Label is 1\n",
      "49026th Training Data Label is 6\n",
      "29046th Training Data Label is 4\n"
     ]
    },
    {
     "data": {
      "image/png": "[encoded data removed]",
      "text/plain": [
       "<Figure size 288x288 with 1 Axes>"
      ]
     },
     "metadata": {
      "needs_background": "light"
     },
     "output_type": "display_data"
    },
    {
     "data": {
      "image/png": "[encoded data removed]",
      "text/plain": [
       "<Figure size 288x288 with 1 Axes>"
      ]
     },
     "metadata": {
      "needs_background": "light"
     },
     "output_type": "display_data"
    },
    {
     "data": {
      "image/png": "[encoded data removed]",
      "text/plain": [
       "<Figure size 288x288 with 1 Axes>"
      ]
     },
     "metadata": {
      "needs_background": "light"
     },
     "output_type": "display_data"
    },
    {
     "data": {
      "image/png": "[encoded data removed]",
      "text/plain": [
       "<Figure size 288x288 with 1 Axes>"
      ]
     },
     "metadata": {
      "needs_background": "light"
     },
     "output_type": "display_data"
    },
    {
     "data": {
      "image/png": "[encoded data removed]",
      "text/plain": [
       "<Figure size 288x288 with 1 Axes>"
      ]
     },
     "metadata": {
      "needs_background": "light"
     },
     "output_type": "display_data"
    }
   ],
   "source": [
    "# How does the training data look like?\n",
    "print (\"How does the training data look like?\")\n",
    "nsample = 5\n",
    "randidx = np.random.randint(trainimg.shape[0], size=nsample)\n",
    "\n",
    "for i in randidx:\n",
    "    curr_img   = np.reshape(trainimg[i, :], (28, 28)) # 28 by 28 matrix \n",
    "    curr_label = np.argmax(trainlabel[i, :] ) # Label\n",
    "    plt.matshow(curr_img, cmap=plt.get_cmap('gray'))\n",
    "    plt.title(\"\" + str(i) + \"th Training Data \" \n",
    "              + \"Label is \" + str(curr_label))\n",
    "    print (\"\" + str(i) + \"th Training Data \" \n",
    "           + \"Label is \" + str(curr_label))"
   ]
  },
  {
   "cell_type": "markdown",
   "metadata": {},
   "source": [
    "## Make Batch with tensorflow dataset"
   ]
  },
  {
   "cell_type": "code",
   "execution_count": 4,
   "metadata": {},
   "outputs": [
    {
     "name": "stdout",
     "output_type": "stream",
     "text": [
      "Batch Learning? \n",
      "Number of training examples: 60000\n",
      "Number of test examples:     10000\n",
      "type of 'batch_xs' is <class 'numpy.ndarray'>\n",
      "type of 'batch_ys' is <class 'numpy.ndarray'>\n",
      "shape of 'batch_xs' is (100, 28, 28, 1)\n",
      "shape of 'batch_ys' is (100, 28, 28, 1)\n"
     ]
    }
   ],
   "source": [
    "# Batch Learning? \n",
    "import tensorflow_datasets as tfds\n",
    "print (\"Batch Learning? \")\n",
    "batch_size = 100\n",
    "\n",
    "dataset, metadata = tfds.load('mnist', as_supervised=True, with_info=True)\n",
    "train_dataset, test_dataset = dataset['train'], dataset['test']\n",
    "\n",
    "num_train_examples = metadata.splits['train'].num_examples\n",
    "num_test_examples = metadata.splits['test'].num_examples\n",
    "print(\"Number of training examples: {}\".format(num_train_examples))\n",
    "print(\"Number of test examples:     {}\".format(num_test_examples))\n",
    "\n",
    "def normalize(images, labels):\n",
    "    images = tf.cast(images, tf.float32)\n",
    "    images /= 255\n",
    "    return images, labels\n",
    "\n",
    "# The map function applies the normalize function to each element in the train\n",
    "# and test datasets\n",
    "train_dataset =  train_dataset.map(normalize)\n",
    "test_dataset  =  test_dataset.map(normalize)\n",
    "\n",
    "# The first time you use the dataset, the images will be loaded from disk\n",
    "# Caching will keep them in memory, making training faster\n",
    "train_dataset =  train_dataset.cache()\n",
    "test_dataset  =  test_dataset.cache()\n",
    "\n",
    "train_dataset=train_dataset.shuffle(num_train_examples,reshuffle_each_iteration=True)\n",
    "\n",
    "batch_xs=tf.compat.v1.data.make_one_shot_iterator(train_dataset.batch(batch_size)).get_next()[0].numpy()\n",
    "batch_ys=tf.compat.v1.data.make_one_shot_iterator(test_dataset.batch(batch_size)).get_next()[0].numpy()\n",
    "# batch_xs=train_dataset.batch(batch_size).make_one_shot_iterator().get_next()[0].numpy()\n",
    "# batch_ys=test_dataset.batch(batch_size).make_one_shot_iterator().get_next()[0].numpy()\n",
    "\n",
    "\n",
    "# batch_xs, batch_ys = mnist.train.next_batch(batch_size)\n",
    "print (\"type of 'batch_xs' is %s\" % (type(batch_xs)))\n",
    "print (\"type of 'batch_ys' is %s\" % (type(batch_ys)))\n",
    "print (\"shape of 'batch_xs' is %s\" % (batch_xs.shape,))\n",
    "print (\"shape of 'batch_ys' is %s\" % (batch_ys.shape,))"
   ]
  },
  {
   "cell_type": "code",
   "execution_count": 33,
   "metadata": {},
   "outputs": [
    {
     "name": "stdout",
     "output_type": "stream",
     "text": [
      "5. Get Random Batch with 'np.random.randint'\n",
      "type of 'batch_xs2' is <class 'numpy.ndarray'>\n",
      "type of 'batch_ys2' is <class 'numpy.ndarray'>\n",
      "shape of 'batch_xs2' is (100, 28, 28)\n",
      "shape of 'batch_ys2' is (100, 10)\n"
     ]
    }
   ],
   "source": [
    "# Get Random Batch with 'np.random.randint'\n",
    "print (\"5. Get Random Batch with 'np.random.randint'\")\n",
    "randidx   = np.random.randint(trainimg.shape[0], size=batch_size)\n",
    "batch_xs2 = trainimg[randidx, :]\n",
    "batch_ys2 = trainlabel[randidx, :]\n",
    "print (\"type of 'batch_xs2' is %s\" % (type(batch_xs2)))\n",
    "print (\"type of 'batch_ys2' is %s\" % (type(batch_ys2)))\n",
    "print (\"shape of 'batch_xs2' is %s\" % (batch_xs2.shape,))\n",
    "print (\"shape of 'batch_ys2' is %s\" % (batch_ys2.shape,))"
   ]
  },
  {
   "cell_type": "code",
   "execution_count": 36,
   "metadata": {},
   "outputs": [
    {
     "data": {
      "text/plain": [
       "array([[[0., 0., 0., ..., 0., 0., 0.],\n",
       "        [0., 0., 0., ..., 0., 0., 0.],\n",
       "        [0., 0., 0., ..., 0., 0., 0.],\n",
       "        ...,\n",
       "        [0., 0., 0., ..., 0., 0., 0.],\n",
       "        [0., 0., 0., ..., 0., 0., 0.],\n",
       "        [0., 0., 0., ..., 0., 0., 0.]],\n",
       "\n",
       "       [[0., 0., 0., ..., 0., 0., 0.],\n",
       "        [0., 0., 0., ..., 0., 0., 0.],\n",
       "        [0., 0., 0., ..., 0., 0., 0.],\n",
       "        ...,\n",
       "        [0., 0., 0., ..., 0., 0., 0.],\n",
       "        [0., 0., 0., ..., 0., 0., 0.],\n",
       "        [0., 0., 0., ..., 0., 0., 0.]],\n",
       "\n",
       "       [[0., 0., 0., ..., 0., 0., 0.],\n",
       "        [0., 0., 0., ..., 0., 0., 0.],\n",
       "        [0., 0., 0., ..., 0., 0., 0.],\n",
       "        ...,\n",
       "        [0., 0., 0., ..., 0., 0., 0.],\n",
       "        [0., 0., 0., ..., 0., 0., 0.],\n",
       "        [0., 0., 0., ..., 0., 0., 0.]],\n",
       "\n",
       "       ...,\n",
       "\n",
       "       [[0., 0., 0., ..., 0., 0., 0.],\n",
       "        [0., 0., 0., ..., 0., 0., 0.],\n",
       "        [0., 0., 0., ..., 0., 0., 0.],\n",
       "        ...,\n",
       "        [0., 0., 0., ..., 0., 0., 0.],\n",
       "        [0., 0., 0., ..., 0., 0., 0.],\n",
       "        [0., 0., 0., ..., 0., 0., 0.]],\n",
       "\n",
       "       [[0., 0., 0., ..., 0., 0., 0.],\n",
       "        [0., 0., 0., ..., 0., 0., 0.],\n",
       "        [0., 0., 0., ..., 0., 0., 0.],\n",
       "        ...,\n",
       "        [0., 0., 0., ..., 0., 0., 0.],\n",
       "        [0., 0., 0., ..., 0., 0., 0.],\n",
       "        [0., 0., 0., ..., 0., 0., 0.]],\n",
       "\n",
       "       [[0., 0., 0., ..., 0., 0., 0.],\n",
       "        [0., 0., 0., ..., 0., 0., 0.],\n",
       "        [0., 0., 0., ..., 0., 0., 0.],\n",
       "        ...,\n",
       "        [0., 0., 0., ..., 0., 0., 0.],\n",
       "        [0., 0., 0., ..., 0., 0., 0.],\n",
       "        [0., 0., 0., ..., 0., 0., 0.]]])"
      ]
     },
     "execution_count": 36,
     "metadata": {},
     "output_type": "execute_result"
    }
   ],
   "source": [
    "np.random.permutation(trainimg)"
   ]
  },
  {
   "cell_type": "code",
   "execution_count": 34,
   "metadata": {},
   "outputs": [
    {
     "data": {
      "text/plain": [
       "array([12934,  2769, 50045, 37789, 37981, 38790, 53528, 37216, 53119,\n",
       "       52971, 46566,  7974, 36728, 53238, 15862, 28394,  5584, 25637,\n",
       "       52076, 55495, 56022, 17189,  5323,  2283, 14352, 51873, 54949,\n",
       "       19631, 43019, 11042, 35315, 12261, 42377, 44416, 25953, 53051,\n",
       "       53359, 23886,  5207, 41341, 20158, 57409, 55499, 45941,  5471,\n",
       "        7067, 40565, 53173,  8752, 11772, 47619, 21225, 32129, 17649,\n",
       "       16413, 52734, 58342, 33530,  7645, 10503,  1993,  3414, 48967,\n",
       "       46474, 34070,  5949, 45945,  7501, 59172, 32213, 25841, 16824,\n",
       "       28802,  8782, 34443, 57132, 22066, 38574, 58713, 45604, 56794,\n",
       "       27724,  2148,  5247, 19038, 55287, 22443, 22808, 22271, 10820,\n",
       "       53786, 14943,  5075,  2143,  5070, 27087,  9338, 39561, 50854,\n",
       "        8595])"
      ]
     },
     "execution_count": 34,
     "metadata": {},
     "output_type": "execute_result"
    }
   ],
   "source": [
    "randidx"
   ]
  },
  {
   "cell_type": "code",
   "execution_count": null,
   "metadata": {},
   "outputs": [],
   "source": []
  }
 ],
 "metadata": {
  "kernelspec": {
   "display_name": "Python 3",
   "language": "python",
   "name": "python3"
  },
  "language_info": {
   "codemirror_mode": {
    "name": "ipython",
    "version": 3
   },
   "file_extension": ".py",
   "mimetype": "text/x-python",
   "name": "python",
   "nbconvert_exporter": "python",
   "pygments_lexer": "ipython3",
   "version": "3.8.5"
  },
  "toc": {
   "base_numbering": 1,
   "nav_menu": {},
   "number_sections": true,
   "sideBar": true,
   "skip_h1_title": false,
   "title_cell": "Table of Contents",
   "title_sidebar": "Contents",
   "toc_cell": false,
   "toc_position": {},
   "toc_section_display": true,
   "toc_window_display": false
  }
 },
 "nbformat": 4,
 "nbformat_minor": 1
}
