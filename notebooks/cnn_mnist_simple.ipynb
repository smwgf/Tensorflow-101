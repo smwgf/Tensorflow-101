{
 "cells": [
  {
   "cell_type": "markdown",
   "metadata": {},
   "source": [
    "## SIMPLE CONVOLUTIONAL NEURAL NETWORK"
   ]
  },
  {
   "cell_type": "code",
   "execution_count": 1,
   "metadata": {},
   "outputs": [
    {
     "name": "stdout",
     "output_type": "stream",
     "text": [
      "PACKAGES LOADED\n"
     ]
    }
   ],
   "source": [
    "import numpy as np\n",
    "# import tensorflow as tf\n",
    "import tensorflow.compat.v1 as tf\n",
    "import matplotlib.pyplot as plt\n",
    "# from tensorflow.examples.tutorials.mnist import input_data\n",
    "%matplotlib inline  \n",
    "print (\"PACKAGES LOADED\")"
   ]
  },
  {
   "cell_type": "markdown",
   "metadata": {},
   "source": [
    "# LOAD MNIST"
   ]
  },
  {
   "cell_type": "code",
   "execution_count": 2,
   "metadata": {},
   "outputs": [],
   "source": [
    "def OnehotEncoding(target):\n",
    "    from sklearn.preprocessing import OneHotEncoder\n",
    "    target_re = target.reshape(-1,1)\n",
    "    enc = OneHotEncoder()\n",
    "    enc.fit(target_re)\n",
    "    return enc.transform(target_re).toarray()\n",
    "\n",
    "def SuffleWithNumpy(data_x, data_y):\n",
    "    idx = np.random.permutation(len(data_x))\n",
    "    x,y = data_x[idx], data_y[idx]\n",
    "    return x,y"
   ]
  },
  {
   "cell_type": "code",
   "execution_count": 3,
   "metadata": {},
   "outputs": [
    {
     "name": "stdout",
     "output_type": "stream",
     "text": [
      "Download and Extract MNIST dataset\n",
      " tpye of 'mnist' is <class 'tensorflow.python.util.module_wrapper.TFModuleWrapper'>\n",
      " number of train data is 60000\n",
      " number of test data is 10000\n",
      "MNIST loaded\n"
     ]
    }
   ],
   "source": [
    "# mnist = input_data.read_data_sets('data/', one_hot=True)\n",
    "# trainimg   = mnist.train.images\n",
    "# trainlabel = mnist.train.labels\n",
    "# testimg    = mnist.test.images\n",
    "# testlabel  = mnist.test.labels\n",
    "# print (\"MNIST ready\")\n",
    "\n",
    "print (\"Download and Extract MNIST dataset\")\n",
    "# mnist = input_data.read_data_sets('data/', one_hot=True)\n",
    "mnist = tf.keras.datasets.mnist\n",
    "\n",
    "(x_train, y_train), (x_test, y_test) = mnist.load_data()\n",
    "x_train, x_test = x_train / 255.0, x_test / 255.0\n",
    "\n",
    "print\n",
    "print (\" tpye of 'mnist' is %s\" % (type(mnist)))\n",
    "print (\" number of train data is %d\" % (len(x_train)))\n",
    "print (\" number of test data is %d\" % (len(x_test)))\n",
    "num_train_data = len(x_train)\n",
    "trainimg   = x_train\n",
    "trainimg = trainimg.reshape(len(trainimg),784)\n",
    "trainlabel = OnehotEncoding(y_train)\n",
    "testimg    = x_test\n",
    "testimg = testimg.reshape(len(testimg),784)\n",
    "testlabel  = OnehotEncoding(y_test)\n",
    "print (\"MNIST loaded\")\n",
    "tf.disable_eager_execution()"
   ]
  },
  {
   "cell_type": "markdown",
   "metadata": {},
   "source": [
    "# SELECT DEVICE TO BE USED"
   ]
  },
  {
   "cell_type": "code",
   "execution_count": 4,
   "metadata": {},
   "outputs": [],
   "source": [
    "device_type = \"/gpu:1\""
   ]
  },
  {
   "cell_type": "markdown",
   "metadata": {},
   "source": [
    "# DEFINE CNN  "
   ]
  },
  {
   "cell_type": "code",
   "execution_count": 5,
   "metadata": {},
   "outputs": [
    {
     "name": "stdout",
     "output_type": "stream",
     "text": [
      "CNN ready\n"
     ]
    }
   ],
   "source": [
    "with tf.device(device_type): # <= This is optional\n",
    "    n_input  = 784\n",
    "    n_output = 10\n",
    "    weights  = {\n",
    "        'wc1': tf.Variable(tf.random_normal([3, 3, 1, 64], stddev=0.1)),\n",
    "        'wd1': tf.Variable(tf.random_normal([14*14*64, n_output], stddev=0.1))\n",
    "    }\n",
    "    biases   = {\n",
    "        'bc1': tf.Variable(tf.random_normal([64], stddev=0.1)),\n",
    "        'bd1': tf.Variable(tf.random_normal([n_output], stddev=0.1))\n",
    "    }\n",
    "    def conv_simple(_input, _w, _b):\n",
    "        # Reshape input\n",
    "        _input_r = tf.reshape(_input, shape=[-1, 28, 28, 1])\n",
    "        # Convolution\n",
    "        _conv1 = tf.nn.conv2d(_input_r, _w['wc1'], strides=[1, 1, 1, 1], padding='SAME')\n",
    "        # Add-bias\n",
    "        _conv2 = tf.nn.bias_add(_conv1, _b['bc1'])\n",
    "        # Pass ReLu\n",
    "        _conv3 = tf.nn.relu(_conv2)\n",
    "        # Max-pooling\n",
    "        _pool  = tf.nn.max_pool(_conv3, ksize=[1, 2, 2, 1], strides=[1, 2, 2, 1], padding='SAME')\n",
    "        # Vectorize\n",
    "        _dense = tf.reshape(_pool, [-1, _w['wd1'].get_shape().as_list()[0]])\n",
    "        # Fully-connected layer\n",
    "        _out = tf.add(tf.matmul(_dense, _w['wd1']), _b['bd1'])\n",
    "        # Return everything\n",
    "        out = {\n",
    "            'input_r': _input_r, 'conv1': _conv1, 'conv2': _conv2, 'conv3': _conv3\n",
    "            , 'pool': _pool, 'dense': _dense, 'out': _out\n",
    "        }\n",
    "        return out\n",
    "print (\"CNN ready\")"
   ]
  },
  {
   "cell_type": "markdown",
   "metadata": {},
   "source": [
    "# DEFINE COMPUTATIONAL GRAPH"
   ]
  },
  {
   "cell_type": "code",
   "execution_count": 6,
   "metadata": {},
   "outputs": [
    {
     "name": "stdout",
     "output_type": "stream",
     "text": [
      "WARNING:tensorflow:From d:\\program\\python_3_8_5\\lib\\site-packages\\tensorflow\\python\\util\\dispatch.py:201: softmax_cross_entropy_with_logits (from tensorflow.python.ops.nn_ops) is deprecated and will be removed in a future version.\n",
      "Instructions for updating:\n",
      "\n",
      "Future major versions of TensorFlow will allow gradients to flow\n",
      "into the labels input on backprop by default.\n",
      "\n",
      "See `tf.nn.softmax_cross_entropy_with_logits_v2`.\n",
      "\n",
      "Network Ready to Go!\n"
     ]
    }
   ],
   "source": [
    "# tf Graph input\n",
    "x = tf.placeholder(tf.float32, [None, n_input])\n",
    "y = tf.placeholder(tf.float32, [None, n_output])\n",
    "# Parameters\n",
    "learning_rate   = 0.001\n",
    "training_epochs = 10\n",
    "batch_size      = 10\n",
    "display_step    = 1\n",
    "# Functions! \n",
    "with tf.device(device_type): # <= This is optional\n",
    "    _pred = conv_simple(x, weights, biases)['out']\n",
    "    cost = tf.reduce_mean(tf.nn.softmax_cross_entropy_with_logits(labels=y, logits=_pred))\n",
    "    optm = tf.train.AdamOptimizer(learning_rate=learning_rate).minimize(cost)\n",
    "    _corr = tf.equal(tf.argmax(_pred,1), tf.argmax(y,1)) # Count corrects\n",
    "    accr = tf.reduce_mean(tf.cast(_corr, tf.float32)) # Accuracy\n",
    "    init = tf.global_variables_initializer()\n",
    "# Saver \n",
    "save_step = 1;\n",
    "savedir = \"nets/\"\n",
    "saver = tf.train.Saver(max_to_keep=3) \n",
    "print (\"Network Ready to Go!\")"
   ]
  },
  {
   "cell_type": "markdown",
   "metadata": {},
   "source": [
    "# OPTIMIZE\n",
    "## DO TRAIN OR NOT"
   ]
  },
  {
   "cell_type": "code",
   "execution_count": 9,
   "metadata": {},
   "outputs": [],
   "source": [
    "do_train = 1\n",
    "# check operation gpu or cpu\n",
    "# sess = tf.Session(config=tf.ConfigProto(allow_soft_placement=True))\n",
    "config = tf.ConfigProto()\n",
    "# config.gpu_options.allow_growth = True\n",
    "\n",
    "\n",
    "config.gpu_options.per_process_gpu_memory_fraction = 0.4\n",
    "\n",
    "        \n",
    "config.allow_soft_placement=True\n",
    "sess = tf.Session(config=config)\n",
    "\n",
    "\n",
    "sess.run(init)"
   ]
  },
  {
   "cell_type": "code",
   "execution_count": 13,
   "metadata": {},
   "outputs": [
    {
     "data": {
      "text/plain": [
       "10000"
      ]
     },
     "execution_count": 13,
     "metadata": {},
     "output_type": "execute_result"
    }
   ],
   "source": [
    "len(testimg)"
   ]
  },
  {
   "cell_type": "code",
   "execution_count": 14,
   "metadata": {
    "scrolled": false
   },
   "outputs": [
    {
     "name": "stdout",
     "output_type": "stream",
     "text": [
      "Epoch: 000/010 cost: 0.035667057\n",
      " Training accuracy: 0.986\n",
      " Test accuracy: 0.980\n",
      "Epoch: 001/010 cost: 0.027397077\n",
      " Training accuracy: 0.994\n",
      " Test accuracy: 0.985\n",
      "Epoch: 002/010 cost: 0.018888790\n",
      " Training accuracy: 0.997\n",
      " Test accuracy: 0.985\n",
      "Epoch: 003/010 cost: 0.013064439\n",
      " Training accuracy: 0.994\n",
      " Test accuracy: 0.984\n",
      "WARNING:tensorflow:From d:\\program\\python_3_8_5\\lib\\site-packages\\tensorflow\\python\\training\\saver.py:969: remove_checkpoint (from tensorflow.python.training.checkpoint_management) is deprecated and will be removed in a future version.\n",
      "Instructions for updating:\n",
      "Use standard file APIs to delete files with this prefix.\n",
      "Epoch: 004/010 cost: 0.009839889\n",
      " Training accuracy: 0.998\n",
      " Test accuracy: 0.985\n",
      "Epoch: 005/010 cost: 0.006764985\n",
      " Training accuracy: 0.998\n",
      " Test accuracy: 0.983\n",
      "Epoch: 006/010 cost: 0.004653526\n",
      " Training accuracy: 0.996\n",
      " Test accuracy: 0.983\n",
      "Epoch: 007/010 cost: 0.003468891\n",
      " Training accuracy: 0.999\n",
      " Test accuracy: 0.983\n",
      "Epoch: 008/010 cost: 0.002509124\n",
      " Training accuracy: 0.998\n",
      " Test accuracy: 0.984\n",
      "Epoch: 009/010 cost: 0.001840721\n",
      " Training accuracy: 0.998\n",
      " Test accuracy: 0.983\n",
      "Optimization Finished.\n"
     ]
    }
   ],
   "source": [
    "if do_train == 1:\n",
    "    for epoch in range(training_epochs):\n",
    "        avg_cost = 0.\n",
    "        total_batch = int(num_train_data/batch_size)\n",
    "        # Loop over all batches\n",
    "        for i in range(total_batch):\n",
    "            batch_xs=trainimg[i*batch_size:(i+1)*batch_size]\n",
    "            batch_ys=trainlabel[i*batch_size:(i+1)*batch_size]\n",
    "            # Fit training using batch data\n",
    "            sess.run(optm, feed_dict={x: batch_xs, y: batch_ys})\n",
    "            # Compute average loss\n",
    "            avg_cost += sess.run(cost, feed_dict={x: batch_xs, y: batch_ys})/total_batch\n",
    "\n",
    "        # Display logs per epoch step\n",
    "        if (epoch +1)% display_step == 0: \n",
    "            print (\"Epoch: %03d/%03d cost: %.9f\" % (epoch+1, training_epochs, avg_cost))\n",
    "            total_batch = int(num_train_data/batch_size)\n",
    "            train_acc=0\n",
    "            for i in range(total_batch):\n",
    "                batch_xs=trainimg[i*batch_size:(i+1)*batch_size]\n",
    "                batch_ys=trainlabel[i*batch_size:(i+1)*batch_size]\n",
    "                train_acc = train_acc + sess.run(accr, feed_dict={x: batch_xs, y: batch_ys})\n",
    "            print (\" Training accuracy: %.3f\" % (train_acc/total_batch))\n",
    "            \n",
    "#             randidx = np.random.randint(len(testimg), size=1000)\n",
    "#             batch_test_xs = testimg[randidx, :]\n",
    "#             batch_test_ys = testlabel[randidx, :]          \n",
    "#             test_acc = sess.run(accr, feed_dict={x: batch_test_xs, y: batch_test_ys})\n",
    "            total_batch = int(len(testimg)/batch_size)\n",
    "            test_acc=0\n",
    "            for i in range(total_batch):\n",
    "                batch_xs=testimg[i*batch_size:(i+1)*batch_size]\n",
    "                batch_ys=testlabel[i*batch_size:(i+1)*batch_size]\n",
    "                test_acc = test_acc + sess.run(accr, feed_dict={x: batch_xs, y: batch_ys})                \n",
    "            \n",
    "            print (\" Test accuracy: %.3f\" % (test_acc/total_batch))\n",
    "\n",
    "        # Save Net\n",
    "        if epoch % save_step == 0:\n",
    "            saver.save(sess, \"nets/cnn_mnist_simple.ckpt-\" + str(epoch))\n",
    "        trainimg,trainlabel = SuffleWithNumpy(trainimg,trainlabel)\n",
    "    print (\"Optimization Finished.\")"
   ]
  },
  {
   "cell_type": "markdown",
   "metadata": {},
   "source": [
    "# RESTORE "
   ]
  },
  {
   "cell_type": "code",
   "execution_count": 19,
   "metadata": {},
   "outputs": [
    {
     "name": "stdout",
     "output_type": "stream",
     "text": [
      "INFO:tensorflow:Restoring parameters from nets/cnn_mnist_simple.ckpt-9\n",
      "NETWORK RESTORED\n"
     ]
    }
   ],
   "source": [
    "do_train = 0\n",
    "if do_train == 0:\n",
    "    epoch = training_epochs-1\n",
    "#     epoch = 3\n",
    "    saver.restore(sess, \"nets/cnn_mnist_simple.ckpt-\" + str(epoch))\n",
    "    print (\"NETWORK RESTORED\")"
   ]
  },
  {
   "cell_type": "markdown",
   "metadata": {},
   "source": [
    "# LET'S SEE HOW CNN WORKS"
   ]
  },
  {
   "cell_type": "code",
   "execution_count": 20,
   "metadata": {},
   "outputs": [],
   "source": [
    "with tf.device(device_type):\n",
    "    conv_out = conv_simple(x, weights, biases)\n",
    "\n",
    "input_r = sess.run(conv_out['input_r'], feed_dict={x: trainimg[0:1, :]})\n",
    "conv1   = sess.run(conv_out['conv1'], feed_dict={x: trainimg[0:1, :]})\n",
    "conv2   = sess.run(conv_out['conv2'], feed_dict={x: trainimg[0:1, :]})\n",
    "conv3   = sess.run(conv_out['conv3'], feed_dict={x: trainimg[0:1, :]})\n",
    "pool    = sess.run(conv_out['pool'], feed_dict={x: trainimg[0:1, :]})\n",
    "dense   = sess.run(conv_out['dense'], feed_dict={x: trainimg[0:1, :]})\n",
    "out     = sess.run(conv_out['out'], feed_dict={x: trainimg[0:1, :]})"
   ]
  },
  {
   "cell_type": "markdown",
   "metadata": {},
   "source": [
    "# Input"
   ]
  },
  {
   "cell_type": "code",
   "execution_count": 21,
   "metadata": {},
   "outputs": [
    {
     "name": "stdout",
     "output_type": "stream",
     "text": [
      "Size of 'input_r' is (1, 28, 28, 1)\n",
      "Label is 1\n"
     ]
    },
    {
     "data": {
      "image/png": "[encoded data removed]",
      "text/plain": [
       "<Figure size 288x288 with 2 Axes>"
      ]
     },
     "metadata": {
      "needs_background": "light"
     },
     "output_type": "display_data"
    }
   ],
   "source": [
    "# Let's see 'input_r'\n",
    "print (\"Size of 'input_r' is %s\" % (input_r.shape,))\n",
    "label = np.argmax(trainlabel[0, :])\n",
    "print (\"Label is %d\" % (label))\n",
    "\n",
    "# Plot ! \n",
    "plt.matshow(input_r[0, :, :, 0], cmap=plt.get_cmap('gray'))\n",
    "plt.title(\"Label of this image is \" + str(label) + \"\")\n",
    "plt.colorbar()\n",
    "plt.show()"
   ]
  },
  {
   "cell_type": "markdown",
   "metadata": {},
   "source": [
    "# Conv1 (convolution)"
   ]
  },
  {
   "cell_type": "code",
   "execution_count": 22,
   "metadata": {
    "scrolled": true
   },
   "outputs": [
    {
     "name": "stdout",
     "output_type": "stream",
     "text": [
      "Size of 'conv1' is (1, 28, 28, 64)\n"
     ]
    },
    {
     "data": {
      "image/png": "[encoded data removed]",
      "text/plain": [
       "<Figure size 288x288 with 2 Axes>"
      ]
     },
     "metadata": {
      "needs_background": "light"
     },
     "output_type": "display_data"
    },
    {
     "data": {
      "image/png": "[encoded data removed]",
      "text/plain": [
       "<Figure size 288x288 with 2 Axes>"
      ]
     },
     "metadata": {
      "needs_background": "light"
     },
     "output_type": "display_data"
    },
    {
     "data": {
      "image/png": "[encoded data removed]",
      "text/plain": [
       "<Figure size 288x288 with 2 Axes>"
      ]
     },
     "metadata": {
      "needs_background": "light"
     },
     "output_type": "display_data"
    }
   ],
   "source": [
    "# Let's see 'conv1'\n",
    "print (\"Size of 'conv1' is %s\" % (conv1.shape,))\n",
    "\n",
    "# Plot ! \n",
    "for i in range(3):\n",
    "    plt.matshow(conv1[0, :, :, i], cmap=plt.get_cmap('gray'))\n",
    "    plt.title(str(i) + \"th conv1\")\n",
    "    plt.colorbar()\n",
    "    plt.show() "
   ]
  },
  {
   "cell_type": "markdown",
   "metadata": {},
   "source": [
    "# Conv2 (+bias)"
   ]
  },
  {
   "cell_type": "code",
   "execution_count": 23,
   "metadata": {
    "scrolled": true
   },
   "outputs": [
    {
     "name": "stdout",
     "output_type": "stream",
     "text": [
      "Size of 'conv2' is (1, 28, 28, 64)\n"
     ]
    },
    {
     "data": {
      "image/png": "[encoded data removed]",
      "text/plain": [
       "<Figure size 288x288 with 2 Axes>"
      ]
     },
     "metadata": {
      "needs_background": "light"
     },
     "output_type": "display_data"
    },
    {
     "data": {
      "image/png": "[encoded data removed]",
      "text/plain": [
       "<Figure size 288x288 with 2 Axes>"
      ]
     },
     "metadata": {
      "needs_background": "light"
     },
     "output_type": "display_data"
    },
    {
     "data": {
      "image/png": "[encoded data removed]",
      "text/plain": [
       "<Figure size 288x288 with 2 Axes>"
      ]
     },
     "metadata": {
      "needs_background": "light"
     },
     "output_type": "display_data"
    }
   ],
   "source": [
    "# Let's see 'conv2'\n",
    "print (\"Size of 'conv2' is %s\" % (conv2.shape,))\n",
    "\n",
    "# Plot ! \n",
    "for i in range(3):\n",
    "    plt.matshow(conv2[0, :, :, i], cmap=plt.get_cmap('gray'))\n",
    "    plt.title(str(i) + \"th conv2\")\n",
    "    plt.colorbar()\n",
    "    plt.show() "
   ]
  },
  {
   "cell_type": "markdown",
   "metadata": {},
   "source": [
    "# Conv3 (ReLU)"
   ]
  },
  {
   "cell_type": "code",
   "execution_count": 24,
   "metadata": {
    "scrolled": true
   },
   "outputs": [
    {
     "name": "stdout",
     "output_type": "stream",
     "text": [
      "Size of 'conv3' is (1, 28, 28, 64)\n"
     ]
    },
    {
     "data": {
      "image/png": "[encoded data removed]",
      "text/plain": [
       "<Figure size 288x288 with 2 Axes>"
      ]
     },
     "metadata": {
      "needs_background": "light"
     },
     "output_type": "display_data"
    },
    {
     "data": {
      "image/png": "[encoded data removed]",
      "text/plain": [
       "<Figure size 288x288 with 2 Axes>"
      ]
     },
     "metadata": {
      "needs_background": "light"
     },
     "output_type": "display_data"
    },
    {
     "data": {
      "image/png": "[encoded data removed]",
      "text/plain": [
       "<Figure size 288x288 with 2 Axes>"
      ]
     },
     "metadata": {
      "needs_background": "light"
     },
     "output_type": "display_data"
    }
   ],
   "source": [
    "# Let's see 'conv3'\n",
    "print (\"Size of 'conv3' is %s\" % (conv3.shape,))\n",
    "\n",
    "# Plot ! \n",
    "for i in range(3):\n",
    "    plt.matshow(conv3[0, :, :, i], cmap=plt.get_cmap('gray'))\n",
    "    plt.title(str(i) + \"th conv3\")\n",
    "    plt.colorbar()\n",
    "    plt.show() "
   ]
  },
  {
   "cell_type": "markdown",
   "metadata": {},
   "source": [
    "# Pool (max_pool)"
   ]
  },
  {
   "cell_type": "code",
   "execution_count": 25,
   "metadata": {
    "scrolled": true
   },
   "outputs": [
    {
     "name": "stdout",
     "output_type": "stream",
     "text": [
      "Size of 'pool' is (1, 14, 14, 64)\n"
     ]
    },
    {
     "data": {
      "image/png": "[encoded data removed]",
      "text/plain": [
       "<Figure size 288x288 with 2 Axes>"
      ]
     },
     "metadata": {
      "needs_background": "light"
     },
     "output_type": "display_data"
    },
    {
     "data": {
      "image/png": "[encoded data removed]",
      "text/plain": [
       "<Figure size 288x288 with 2 Axes>"
      ]
     },
     "metadata": {
      "needs_background": "light"
     },
     "output_type": "display_data"
    },
    {
     "data": {
      "image/png": "[encoded data removed]",
      "text/plain": [
       "<Figure size 288x288 with 2 Axes>"
      ]
     },
     "metadata": {
      "needs_background": "light"
     },
     "output_type": "display_data"
    }
   ],
   "source": [
    "# Let's see 'pool'\n",
    "print (\"Size of 'pool' is %s\" % (pool.shape,))\n",
    "\n",
    "# Plot ! \n",
    "for i in range(3):\n",
    "    plt.matshow(pool[0, :, :, i], cmap=plt.get_cmap('gray'))\n",
    "    plt.title(str(i) + \"th pool\")\n",
    "    plt.colorbar()\n",
    "    plt.show() "
   ]
  },
  {
   "cell_type": "markdown",
   "metadata": {},
   "source": [
    "# Dense"
   ]
  },
  {
   "cell_type": "code",
   "execution_count": 26,
   "metadata": {},
   "outputs": [
    {
     "name": "stdout",
     "output_type": "stream",
     "text": [
      "Size of 'dense' is (1, 12544)\n",
      "Size of 'out' is (1, 10)\n"
     ]
    },
    {
     "data": {
      "image/png": "[encoded data removed]",
      "text/plain": [
       "<Figure size 1152x144 with 2 Axes>"
      ]
     },
     "metadata": {
      "needs_background": "light"
     },
     "output_type": "display_data"
    }
   ],
   "source": [
    "# Let's see 'dense'\n",
    "print (\"Size of 'dense' is %s\" % (dense.shape,))\n",
    "# Let's see 'out'\n",
    "print (\"Size of 'out' is %s\" % (out.shape,))\n",
    "plt.matshow(out, cmap=plt.get_cmap('gray'))\n",
    "plt.title(\"out\")\n",
    "plt.colorbar()\n",
    "plt.show() "
   ]
  },
  {
   "cell_type": "markdown",
   "metadata": {},
   "source": [
    "# Convolution filters"
   ]
  },
  {
   "cell_type": "code",
   "execution_count": 27,
   "metadata": {
    "scrolled": true
   },
   "outputs": [
    {
     "name": "stdout",
     "output_type": "stream",
     "text": [
      "Size of 'wc1' is (3, 3, 1, 64)\n"
     ]
    },
    {
     "data": {
      "image/png": "[encoded data removed]",
      "text/plain": [
       "<Figure size 288x288 with 2 Axes>"
      ]
     },
     "metadata": {
      "needs_background": "light"
     },
     "output_type": "display_data"
    },
    {
     "data": {
      "image/png": "[encoded data removed]",
      "text/plain": [
       "<Figure size 288x288 with 2 Axes>"
      ]
     },
     "metadata": {
      "needs_background": "light"
     },
     "output_type": "display_data"
    },
    {
     "data": {
      "image/png": "[encoded data removed]",
      "text/plain": [
       "<Figure size 288x288 with 2 Axes>"
      ]
     },
     "metadata": {
      "needs_background": "light"
     },
     "output_type": "display_data"
    }
   ],
   "source": [
    "# Let's see weight! \n",
    "wc1 = sess.run(weights['wc1'])\n",
    "print (\"Size of 'wc1' is %s\" % (wc1.shape,))\n",
    "\n",
    "# Plot ! \n",
    "for i in range(3):\n",
    "    plt.matshow(wc1[:, :, 0, i], cmap=plt.get_cmap('gray'))\n",
    "    plt.title(str(i) + \"th conv filter\")\n",
    "    plt.colorbar()\n",
    "    plt.show() "
   ]
  },
  {
   "cell_type": "code",
   "execution_count": null,
   "metadata": {},
   "outputs": [],
   "source": []
  },
  {
   "cell_type": "code",
   "execution_count": null,
   "metadata": {},
   "outputs": [],
   "source": []
  }
 ],
 "metadata": {
  "kernelspec": {
   "display_name": "Python 3",
   "language": "python",
   "name": "python3"
  },
  "language_info": {
   "codemirror_mode": {
    "name": "ipython",
    "version": 3
   },
   "file_extension": ".py",
   "mimetype": "text/x-python",
   "name": "python",
   "nbconvert_exporter": "python",
   "pygments_lexer": "ipython3",
   "version": "3.8.5"
  },
  "toc": {
   "base_numbering": 1,
   "nav_menu": {},
   "number_sections": true,
   "sideBar": true,
   "skip_h1_title": false,
   "title_cell": "Table of Contents",
   "title_sidebar": "Contents",
   "toc_cell": false,
   "toc_position": {},
   "toc_section_display": true,
   "toc_window_display": false
  }
 },
 "nbformat": 4,
 "nbformat_minor": 1
}
